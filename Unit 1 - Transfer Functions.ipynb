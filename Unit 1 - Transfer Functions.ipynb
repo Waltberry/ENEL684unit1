{
 "cells": [
  {
   "cell_type": "markdown",
   "id": "6e0fd02e",
   "metadata": {
    "slideshow": {
     "slide_type": "slide"
    }
   },
   "source": [
    "# Unit 1 - Modelling and Representations of Systems\n",
    "# Part 2 - Laplace Transforms, Transfer Functions and S-Plane Plots\n",
    "\n",
    "- Modelling of electrical and mechanical systems\n",
    "    - Electric circuits with resistors, capacitors, inductors, op-amps\n",
    "    - Rotational mechanical systems\n",
    "- Simulation of a system\n",
    "    - Response due to initial conditions\n",
    "    - Step response\n",
    "    - Response to any input\n",
    "- Representations\n",
    "    - Differential equation\n",
    "    - Transfer function\n",
    "- Characteristics of a system\n",
    "    - Settling Time\n",
    "    - Maximum overshoot\n",
    "    - Rise time\n",
    "    - Stability\n",
    "- Key Concepts\n",
    "    - Poles\n",
    "    - Zeros\n",
    "- Plots\n",
    "    - Time domain response\n",
    "    - S-Plane"
   ]
  },
  {
   "cell_type": "markdown",
   "id": "1353a4dd",
   "metadata": {
    "slideshow": {
     "slide_type": "fragment"
    }
   },
   "source": [
    "Required Viewing before this lecture:\n",
    "- video series on transient response"
   ]
  },
  {
   "cell_type": "markdown",
   "id": "721933f6",
   "metadata": {
    "slideshow": {
     "slide_type": "slide"
    }
   },
   "source": [
    "# From previous part:\n",
    "\n",
    "Solving differential equations in time domain is tedious, however, we could do it. \n",
    "\n",
    "On the other hand over time people have come up with helpful tools that either:\n",
    "- simplify the task of solving differential equations (for example: Laplace)\n",
    "- give extra insight (for example: Fourier)\n",
    "- or both! \n",
    "\n",
    "Key insight from transfer function representation:\n",
    "- poles/zeros of a system"
   ]
  },
  {
   "cell_type": "markdown",
   "id": "045d72dc",
   "metadata": {
    "slideshow": {
     "slide_type": "slide"
    }
   },
   "source": [
    "# Consider same example as last part\n",
    "\n",
    "![1 Disk Graphic Diagram](windturbine.png \"1 Disk Graphic Diagram\")\n",
    "\n",
    "![1 Disk Graphic Diagram](1diskSimpleGraphic.png \"1 Disk Graphic Diagram\")\n",
    "​\n",
    "\n",
    "Blades of wind turbine are modelled as a disk with inertia $J$. They are connected to a generator by a shaft. The shaft can twist under high load. The shaft is supported by bearings on the blade side. The angular position of the shaft is measured at both ends. \n",
    "​\n",
    "We will:\n",
    "- Derive the transfer function between angular position of the rod at the left side ($\\theta_1$) and angular position of the rod at the right side ($\\theta_2$),\n",
    "- Analyze pole-zero map, \n",
    "- Analyze step response of system,\n",
    "- See how to simulate the output of the system for any input using Python.\n",
    "​\n",
    "# Schematic Diagram \n",
    "![1 Disk Schematic Diagram](1diskSimpleSchematic.png \"1 Disk Schematic Diagram\")\n",
    "\n",
    "# Free Body Diagram\n",
    "![1 Disk Free Body Diagram](1diskSimpleFreeBody.png \"1 Disk Free Body Diagram\")\n",
    "\n",
    "Governing differential equation that we derived in previous part:\n",
    "$$\n",
    "\\begin{align*}\n",
    "k \\theta_1 = J \\frac{\\text{d}^2 \\theta_2}{\\text{dt}^2} + b \\frac{\\text{d} \\theta_2}{\\text{dt}} + k \\theta_2\n",
    "\\end{align*}\n",
    "$$"
   ]
  },
  {
   "cell_type": "markdown",
   "id": "5f776938",
   "metadata": {
    "slideshow": {
     "slide_type": "slide"
    }
   },
   "source": [
    "# The Laplace Transform\n",
    "\n",
    "- It is a transform that converts a function in time to a function in $s$ (the so-called Laplace variable).\n",
    "- It is an extrememly useful tool for solving differential equations. \n",
    "- It gives rise to the concept of a transfer function. \n",
    "\n",
    "The Laplace transform:\n",
    "$$\n",
    "\\begin{align*}\n",
    "F(s) &= \\mathcal{L}[f(t)] \\\\ \n",
    "&= \\int_0^{\\infty} f(t)e^{-st}\\text{d}t\n",
    "\\end{align*}\n",
    "$$"
   ]
  },
  {
   "cell_type": "markdown",
   "id": "21bee787",
   "metadata": {
    "slideshow": {
     "slide_type": "fragment"
    }
   },
   "source": [
    "# Useful Laplace Transforms\n",
    "\n",
    "- $\\mathcal{L}[e^{-pt}] = \\frac{1}{s+p}$\n",
    "- $\\mathcal{L}[1(t)] = \\frac{1}{s}$, where $1(t)$ is the unit step function. "
   ]
  },
  {
   "cell_type": "markdown",
   "id": "0171d159",
   "metadata": {
    "slideshow": {
     "slide_type": "fragment"
    }
   },
   "source": [
    "# Useful Laplace Transform Properties\n",
    "\n",
    "\n",
    "\n",
    "- $\\mathcal{L}[f'(t)] = sF(s) - f(0)$\n",
    "- $\\mathcal{L}[f''(t)] = s^2F(s) -sf(0) - f(0)'$\n",
    "- $\\mathcal{L}[f(t)*g(t)] = F(s)G(s)$\n",
    "\n",
    "\n",
    "        \n"
   ]
  },
  {
   "cell_type": "markdown",
   "id": "fdcffc1d",
   "metadata": {
    "slideshow": {
     "slide_type": "slide"
    }
   },
   "source": [
    "# In Class Activity!\n",
    "\n",
    "Using these properties, take the Laplace transform the governing differential equation that we derived earlier:\n",
    "$$\n",
    "\\begin{align*}\n",
    "\\mathcal{L}[ k \\theta_1 ] = \\mathcal{L}[ J \\frac{\\text{d}^2 \\theta_2}{\\text{dt}^2} + b \\frac{\\text{d} \\theta_2}{\\text{dt}} + k \\theta_2]\n",
    "\\end{align*}\n",
    "$$\n",
    "\n",
    "Gather $\\Theta_1(s)$ and $\\Theta_2(s)$ terms."
   ]
  },
  {
   "cell_type": "markdown",
   "id": "93b47cb9",
   "metadata": {
    "slideshow": {
     "slide_type": "fragment"
    }
   },
   "source": [
    "Take Laplace transform of both sides:\n",
    "$$\n",
    "\\begin{align*}\n",
    "\\mathcal{L}[k \\theta_1(t)] &= \\mathcal{L}\\Big[ J \\frac{\\text{d}^2 \\theta_2(t)}{\\text{dt}^2} + b \\frac{\\text{d} \\theta_2(t)}{\\text{dt}} + k \\theta_2(t) \\Big] \\\\\n",
    "k \\Theta_1(s) &= J s^2 \\Theta_2(s) + b s \\Theta_2(s) + k \\Theta_2(s) - J s \\theta_2(0) -J \\theta_2'(0) - k \\theta_2(0)\n",
    "\\end{align*}\n",
    "$$\n",
    "Gather terms and find expression for $\\Theta_2(s)$:\n",
    "$$\n",
    "\\begin{align*}\n",
    "\\Theta_2(s) = \\underbrace{\\frac{k}{Js^2 + bs+k}}_{\\text{Transfer Function}}\\Theta_1(s) + \\underbrace{\\frac{Js\\theta_2(0) + J \\theta_2'(0) + k \\theta_2(0)}{Js^2 + bs+k}}_{\\text{Response due to initial conditions}}\n",
    "\\end{align*}\n",
    "$$"
   ]
  },
  {
   "cell_type": "markdown",
   "id": "ae10f352",
   "metadata": {
    "slideshow": {
     "slide_type": "fragment"
    }
   },
   "source": [
    "# Poles and Zeros of a Transfer Function\n",
    "\n",
    "Can factor numerator and denominator of transfer function:\n",
    "\n",
    "$$\n",
    "\\begin{align*}\n",
    "G(s) &= \\frac{b_0 s^n + b_1 s^{n-1} + \\cdots + b_{n-1} s + b_{n}}{s^n + a_1s^{n-1} + \\cdots + a_{n-1} s + a_{n}} \\\\\n",
    "&= \\frac{ b_0( s + z_1 )(s + z_2) + \\cdots + (s+z_n) }{(s+p_1)(s+p_2) \\cdots (s+p_n)}\n",
    "\\end{align*}\n",
    "$$\n",
    "\n",
    "where \n",
    "- $z_1$, $\\ldots$, $z_n$ are the zeros of the transfer function and,\n",
    "- $p_1$, $\\dots,$, $p_n$ are the poles of the transfer function.\n"
   ]
  },
  {
   "cell_type": "markdown",
   "id": "57ee030f",
   "metadata": {
    "slideshow": {
     "slide_type": "fragment"
    }
   },
   "source": [
    "# What do the poles mean? What do they represent?\n",
    "\n",
    "To me it is not very informative to simply say \"poles are the points in the s-plane where the transfer function blows up to $\\infty$\"... There should be a deeper or more tangible meaning.\n",
    "\n",
    "In order to discover this meaning, let's take the partial fraction expansion of $G(s)$:\n",
    "\n",
    "$$\n",
    "\\begin{align*}\n",
    "G(s) = \\sum_{k=1}^n \\frac{c_k}{s+p_k},\n",
    "\\end{align*}\n",
    "$$\n",
    "\n",
    "Take the inverse Laplace transform:\n",
    "$$\n",
    "\\begin{align*}\n",
    "g(t) &= \\sum_{k=1}^n c_k e^{-p_kt}1(t) \\\\\n",
    "\\end{align*}\n",
    "$$\n",
    "\n",
    "What do you notice? When we solved the system in time-domain directly, the general solution of the differential equation was always of the form \n",
    "$$\n",
    "\\begin{align*}\n",
    "g(t) &= \\sum_{k=1}^n c_k e^{-p_kt}1(t) \\\\\n",
    "\\end{align*}\n",
    "$$\n",
    "which is exactly the same as above. Recall that to construct the general solution, we selected $p_k$ based on the characteristic equation of the differential equation. \n",
    "\n",
    "So now we can say that the poles of the system are the exact same as the solutions to the characteristic equation of the differential equation! That is an interesting connection! (This statement is not as trivial as you might think, consider for instance the zeros, they do not appear at all in the solution to the differential equation).\n",
    "\n",
    "We will see in the remainder of this lecture that the poles determine many characteristics of a system. \n",
    "\n"
   ]
  },
  {
   "cell_type": "markdown",
   "id": "5041a1e6",
   "metadata": {
    "slideshow": {
     "slide_type": "fragment"
    }
   },
   "source": [
    "In this lecture we will learn about 2 types of plots that illustrate various characteristics about a system:\n",
    "    - Step Response plot\n",
    "    - S-plane plot"
   ]
  },
  {
   "cell_type": "markdown",
   "id": "4f9525d1",
   "metadata": {
    "slideshow": {
     "slide_type": "slide"
    }
   },
   "source": [
    "# First Type of Plot: Step Response\n",
    "\n",
    "Let the input, in this case $\\theta_1(t)$, be a step. \n",
    "\n",
    "Step function defined as:\n",
    "$$\n",
    "\\begin{align*}\n",
    "1(t) = \\begin{cases}\n",
    "0 & \\text{if $t\\le0$}, \\\\\n",
    "1 & \\text{if $t>0$}.\n",
    "\\end{cases}\n",
    "\\end{align*}\n",
    "$$\n",
    "\n",
    "What is the Laplace transform of a step? \n"
   ]
  },
  {
   "cell_type": "markdown",
   "id": "67c9c367",
   "metadata": {
    "slideshow": {
     "slide_type": "fragment"
    }
   },
   "source": [
    "$$\n",
    "\\begin{align*}\n",
    "\\mathcal{L}[1(t)] = \\frac{1}{s}\n",
    "\\end{align*}\n",
    "$$"
   ]
  },
  {
   "cell_type": "markdown",
   "id": "3c4ed2d1",
   "metadata": {
    "slideshow": {
     "slide_type": "fragment"
    }
   },
   "source": [
    "# In Class Activity!\n",
    "\n",
    "- Read and understand the following code. \n",
    "- Modify the parameters of the system and compare the step response. \n",
    "    - What happens when you increase the spring constant? \n",
    "    - What happens when you increase the inertia?\n",
    "    - What happens when you increase the damping?\n"
   ]
  },
  {
   "cell_type": "code",
   "execution_count": 1,
   "id": "75609d62",
   "metadata": {
    "slideshow": {
     "slide_type": "fragment"
    }
   },
   "outputs": [],
   "source": [
    "import scipy as sp\n",
    "import numpy as np\n",
    "import matplotlib.pyplot as plt\n",
    "import math\n",
    "import control as ct\n",
    "import enel441_utilities as eu"
   ]
  },
  {
   "cell_type": "code",
   "execution_count": 3,
   "id": "150364e1",
   "metadata": {
    "slideshow": {
     "slide_type": "fragment"
    }
   },
   "outputs": [
    {
     "data": {
      "text/plain": [
       "(0.0, 50.0)"
      ]
     },
     "execution_count": 3,
     "metadata": {},
     "output_type": "execute_result"
    },
    {
     "data": {
      "image/png": "[encoded data removed]",
      "text/plain": [
       "<Figure size 640x480 with 1 Axes>"
      ]
     },
     "metadata": {},
     "output_type": "display_data"
    }
   ],
   "source": [
    "# set system parameters\n",
    "J = 10 \n",
    "k = 10\n",
    "b = 10\n",
    "\n",
    "# construct arrays to define numerator and denominator. Use powers of s: a_3s^3 + a_2s^2 + a_1s + a_0 \n",
    "# corresponds to array: [a_3, a_2, a_1, a_0]\n",
    "num = np.array([k])\n",
    "den = np.array([J, b, k]) \n",
    "G = ct.tf(num,den)\n",
    "\n",
    "# generate the data\n",
    "N = 10000   #number of points\n",
    "Tf = 50     #time in seconds of simulation\n",
    "t = np.linspace(0,Tf,N)\n",
    "\n",
    "step_data = ct.step_response(G,T=t)\n",
    "\n",
    "fig, ax = plt.subplots(1,1)\n",
    "ax.plot(t,np.squeeze(step_data.y), label='Step Response')\n",
    "ax.set_title(r'Step response')\n",
    "ax.set_xlabel('Time (s)')\n",
    "ax.set_xlim(t[0], t[-1])\n",
    "\n"
   ]
  },
  {
   "cell_type": "markdown",
   "id": "8e2a970d",
   "metadata": {
    "slideshow": {
     "slide_type": "slide"
    }
   },
   "source": [
    "# Characteristics of a step response (Transient Response)\n",
    "\n",
    "![Step Response Characteristics](step-response.png \"Step Response Characteristics\")"
   ]
  },
  {
   "cell_type": "markdown",
   "id": "563837c8",
   "metadata": {
    "slideshow": {
     "slide_type": "fragment"
    }
   },
   "source": [
    "# Generate annotated plots"
   ]
  },
  {
   "cell_type": "code",
   "execution_count": 4,
   "id": "204050f6",
   "metadata": {
    "slideshow": {
     "slide_type": "fragment"
    }
   },
   "outputs": [
    {
     "name": "stdout",
     "output_type": "stream",
     "text": [
      "Rise Time = 0.24802480248024805s\n",
      "Peak Time = 0.7060706070607061s\n",
      "Peak Overshoot = 70.23053169250488%\n",
      "Settling Time = 7.8267826782678265s\n"
     ]
    },
    {
     "data": {
      "image/png": "[encoded data removed]",
      "text/plain": [
       "<Figure size 640x480 with 1 Axes>"
      ]
     },
     "metadata": {},
     "output_type": "display_data"
    }
   ],
   "source": [
    "# set system parameters\n",
    "J = 1 \n",
    "k = 20\n",
    "b = 1\n",
    "\n",
    "# construct arrays to define numerator and denominator. Use powers of s: a_3s^3 + a_2s^2 + a_1s + a_0 \n",
    "# corresponds to array: [a_3, a_2, a_1, a_0]\n",
    "num = np.array([k])\n",
    "den = np.array([J, b, k, 0])\n",
    "\n",
    "# generate the data\n",
    "N = 10000   #number of points\n",
    "Tf = 20     #time in seconds of simulation\n",
    "t = np.linspace(0,Tf,N)\n",
    "\n",
    "fig, ax, theta_2 = eu.enel441_step_response(num, den, t)\n",
    "rise_time = eu.enel441_rise_time(t, theta_2, ax)\n",
    "peak_time, peak_overshoot = eu.enel441_peak_overshoot(t, theta_2, ax)\n",
    "settling_time = eu.enel441_settling_time(t, theta_2, ax)\n",
    "\n",
    "print('Rise Time = ', rise_time, 's', sep='' )\n",
    "print('Peak Time = ', peak_time, 's', sep='' )\n",
    "print('Peak Overshoot = ', peak_overshoot, '%', sep='' )\n",
    "print('Settling Time = ', settling_time, 's', sep='' )"
   ]
  },
  {
   "cell_type": "markdown",
   "id": "03069f93",
   "metadata": {
    "slideshow": {
     "slide_type": "slide"
    }
   },
   "source": [
    "# Second Type of Plot we will use: S-Plane Plot\n",
    "\n",
    "We have determined that the poles are very important. So we want to have a plot to visualize the poles and zeros and be able to infer some of the effects of the pole locations. \n",
    "\n",
    "Consider the following second order transfer function:\n",
    "$$\n",
    "G(s) = \\frac{1}{(s + \\alpha + j\\beta)(s+\\alpha - j\\beta)}\n",
    "$$\n",
    "The poles of $G(s)$ are: \n",
    "$$\n",
    "p =-\\alpha \\pm j \\beta\n",
    "$$\n",
    "\n",
    "Recall poles/zeros can be real or imaginary. \n",
    "\n",
    "Idea: create a plot with\n",
    "- real parts of the poles/zeros along x-axis\n",
    "- imaginary parts of the poles/zeros along y-axis\n"
   ]
  },
  {
   "cell_type": "markdown",
   "id": "96a7b84e",
   "metadata": {
    "slideshow": {
     "slide_type": "slide"
    }
   },
   "source": [
    "# Visualizing characteristics odf the step Response on the S-Plane Plot\n",
    "\n",
    "Select a set of systems, with poles along a vertical line in the s-plane. Make sure you pick a vertical line that ends up with stable systems. Plot the step-responses of each system on the same plot. What do you notice about the step responses? "
   ]
  },
  {
   "cell_type": "code",
   "execution_count": 5,
   "id": "a24bb640",
   "metadata": {
    "slideshow": {
     "slide_type": "fragment"
    }
   },
   "outputs": [
    {
     "data": {
      "text/html": [
       "\n",
       "<div align=\"middle\">\n",
       "<video width=\"80%\" controls>\n",
       "      <source src=\"constant alpha.mp4\" type=\"video/mp4\">\n",
       "</video></div>"
      ],
      "text/plain": [
       "<IPython.core.display.HTML object>"
      ]
     },
     "execution_count": 5,
     "metadata": {},
     "output_type": "execute_result"
    }
   ],
   "source": [
    "from IPython.display import HTML\n",
    "\n",
    "HTML(\"\"\"\n",
    "<div align=\"middle\">\n",
    "<video width=\"80%\" controls>\n",
    "      <source src=\"constant alpha.mp4\" type=\"video/mp4\">\n",
    "</video></div>\"\"\")"
   ]
  },
  {
   "cell_type": "markdown",
   "id": "58f2cbac",
   "metadata": {
    "slideshow": {
     "slide_type": "fragment"
    }
   },
   "source": [
    "# What do we see? \n",
    "\n",
    "# What characteristic of the step response stays the same? \n",
    "\n",
    "# Does this match the equations derived during the videos?"
   ]
  },
  {
   "cell_type": "markdown",
   "id": "8def2ce7",
   "metadata": {
    "slideshow": {
     "slide_type": "fragment"
    }
   },
   "source": [
    "Now, select a set of systems with poles along a horizontal line in the s-plane. Make sure you pick a line that ends up with stable systems. Plot the step-responses of each system on the same plot. What do you notice about the step responses? "
   ]
  },
  {
   "cell_type": "code",
   "execution_count": 6,
   "id": "08a72cf8",
   "metadata": {
    "slideshow": {
     "slide_type": "fragment"
    }
   },
   "outputs": [
    {
     "data": {
      "text/html": [
       "\n",
       "<div align=\"middle\">\n",
       "<video width=\"80%\" controls>\n",
       "      <source src=\"constant beta.mp4\" type=\"video/mp4\">\n",
       "</video></div>"
      ],
      "text/plain": [
       "<IPython.core.display.HTML object>"
      ]
     },
     "execution_count": 6,
     "metadata": {},
     "output_type": "execute_result"
    }
   ],
   "source": [
    "from IPython.display import HTML\n",
    "\n",
    "HTML(\"\"\"\n",
    "<div align=\"middle\">\n",
    "<video width=\"80%\" controls>\n",
    "      <source src=\"constant beta.mp4\" type=\"video/mp4\">\n",
    "</video></div>\"\"\")"
   ]
  },
  {
   "cell_type": "markdown",
   "id": "6c5f596e",
   "metadata": {
    "slideshow": {
     "slide_type": "fragment"
    }
   },
   "source": [
    "# What do we observe? \n",
    "\n",
    "# What characteristic of the step reponse stays the same?\n",
    "\n",
    "# Does this match what we learned in the video?"
   ]
  },
  {
   "cell_type": "code",
   "execution_count": 7,
   "id": "a39627a1",
   "metadata": {
    "slideshow": {
     "slide_type": "fragment"
    }
   },
   "outputs": [
    {
     "data": {
      "text/html": [
       "\n",
       "<div align=\"middle\">\n",
       "<video width=\"80%\" controls>\n",
       "      <source src=\"constant slope.mp4\" type=\"video/mp4\">\n",
       "</video></div>"
      ],
      "text/plain": [
       "<IPython.core.display.HTML object>"
      ]
     },
     "execution_count": 7,
     "metadata": {},
     "output_type": "execute_result"
    }
   ],
   "source": [
    "from IPython.display import HTML\n",
    "\n",
    "HTML(\"\"\"\n",
    "<div align=\"middle\">\n",
    "<video width=\"80%\" controls>\n",
    "      <source src=\"constant slope.mp4\" type=\"video/mp4\">\n",
    "</video></div>\"\"\")"
   ]
  },
  {
   "cell_type": "markdown",
   "id": "2bf9218c",
   "metadata": {
    "slideshow": {
     "slide_type": "slide"
    }
   },
   "source": [
    "# Insights\n",
    "- The poles of a system have a strong effect on the transient response of a system\n",
    "- There are pole patterns in the s-plane that can help us to estimate some characteristics of the transient response (is it fast or slow, highly occiliatory or not?)\n",
    "\n",
    "This is important, because sometimes requirements of a control system are stated in terms of rise time, settling time and/or maximum overshoot. \n",
    "\n",
    "For second order systems, we have mapped these requirements to an area in the s-plane. Thus we know that any system with-in a certain area will meet the specified requirements! \n",
    "\n",
    "See video for exact equations.\n",
    "\n",
    "In a few weeks, we will be using controllers to \"place\" the poles of a system anywhere in the s-plane. Now we know where we want to place them!\n",
    "\n"
   ]
  },
  {
   "cell_type": "markdown",
   "id": "c5008e33",
   "metadata": {},
   "source": [
    "# In Class Activity\n",
    "Place a pole in the right half plane. What happens to the step response? What looks different? Can we explain what is happening here? Think about how a pole appears in the time domain.\n",
    "\n",
    "This is called an unstable pole."
   ]
  },
  {
   "cell_type": "code",
   "execution_count": 8,
   "id": "d79837e3",
   "metadata": {},
   "outputs": [
    {
     "data": {
      "image/png": "[encoded data removed]",
      "text/plain": [
       "<Figure size 640x480 with 1 Axes>"
      ]
     },
     "metadata": {},
     "output_type": "display_data"
    },
    {
     "data": {
      "image/png": "[encoded data removed]",
      "text/plain": [
       "<Figure size 640x480 with 1 Axes>"
      ]
     },
     "metadata": {},
     "output_type": "display_data"
    }
   ],
   "source": [
    "import enel441_utilities as eu\n",
    "import numpy as np\n",
    "import importlib\n",
    "\n",
    "importlib.reload(eu)\n",
    "\n",
    "\n",
    "p1 = 1+1j\n",
    "roots1 = np.array([p1, np.conjugate(p1)])\n",
    "den1 = eu.roots_to_polynomial(roots1)\n",
    "num1 = np.array([1])\n",
    "num1 = num1*den1[-2]/num1[-1]\n",
    "\n",
    "\n",
    "# calculate step responses\n",
    "N = 10000   #number of points\n",
    "Tf = 20     #time in seconds of simulation\n",
    "t = np.linspace(0,Tf,N)\n",
    "\n",
    "eu.enel441_s_plane_plot(num1, den1)\n",
    "fig, ax, out_step = eu.enel441_step_response(num1,den1,t)"
   ]
  },
  {
   "cell_type": "markdown",
   "id": "5baf67b8",
   "metadata": {},
   "source": [
    "# Can we Explain What is Happening Here?\n",
    "\n",
    "Why is the step response tending to $\\infty$?\n",
    "\n",
    "Hint: how are poles related to the solution to the differential equation?"
   ]
  },
  {
   "cell_type": "markdown",
   "id": "24f79c03",
   "metadata": {
    "slideshow": {
     "slide_type": "fragment"
    }
   },
   "source": [
    "# Higher Order Systems\n",
    "\n",
    "The equations we derived for $T_s$, $T_p$ and $P.O.$ only hold for second order systems. Most systems are higher order... What now?\n",
    "\n",
    "The formulas act as guidelines only.\n",
    "\n",
    "\n",
    "\n"
   ]
  },
  {
   "cell_type": "markdown",
   "id": "10d03b69",
   "metadata": {
    "slideshow": {
     "slide_type": "slide"
    }
   },
   "source": [
    "# What about zeros?\n",
    "\n",
    "We have learned that the poles of a system are directly related to the decay rate of the exponentials in the step response.\n",
    "\n",
    "But what is the physical meaning of the zeros? What is the effect of zeros on the step response?"
   ]
  },
  {
   "cell_type": "markdown",
   "id": "90b78ff6",
   "metadata": {
    "slideshow": {
     "slide_type": "slide"
    }
   },
   "source": [
    "# Step Response of Higher Order System\n",
    "\n",
    "The step response for an $n$ th order system is:\n",
    "$$\n",
    "\\begin{align*}\n",
    "C(s) = \\frac{c_0}{s} + \\sum_k^n \\frac{c_k}{s+p_k},\n",
    "\\end{align*}\n",
    "$$\n",
    "where\n",
    "- $\\frac{1}{s}$ is the response due to the step,\n",
    "- $c_1, c_2, \\ldots$ are the coefficients of the partial fraction expansion (can be complex),\n",
    "- $p_1, p_2, \\ldots$ are the poles of the transfer function (can be complex).\n",
    "Note: if $c_1$, $c_2$, $\\ldots$ are complex, then they always appear in complex conjugate pairs. Same for the poles. \n",
    "\n",
    "Taking inverse Laplace transform:\n",
    "$$\n",
    "\\begin{align*}\n",
    "c(t) &= c_01(t) + \\sum_{k=0}^{n-1} c_k e^{-p_kt}1(t) \\\\\n",
    "\\end{align*}\n",
    "$$\n"
   ]
  },
  {
   "cell_type": "markdown",
   "id": "b54d3c01",
   "metadata": {
    "slideshow": {
     "slide_type": "slide"
    }
   },
   "source": [
    "# The zeros of a transfer function affect the magnitude of the coefficients $c_k$\n",
    "\n",
    "- Placing a zero close to a pole reduces the magnitude of the partial fraction expansion coefficient. \n",
    "\n",
    "- In other words: \n",
    "\n",
    "# a zero close to a pole reduces the dominance of that pole.\n",
    "\n",
    "Can we reason this?\n",
    "\n"
   ]
  },
  {
   "cell_type": "markdown",
   "id": "63b10148",
   "metadata": {
    "slideshow": {
     "slide_type": "fragment"
    }
   },
   "source": [
    "# Reasoning \n",
    "\n",
    "Consider a transfer function\n",
    "$$\n",
    "G(s) = \\frac{(s+z_1)}{(s+p_1)(s+p_2)}\n",
    "$$\n",
    "If the zero is equal to the pole ($z_1=p_1$), then there is a pole zero cancellation and the transfer function is equal to\n",
    "$$\n",
    "G(s) = \\frac{1}{s+p_2}\n",
    "$$\n",
    "\n",
    "# So a zero ($z_1$) that is exactly on top of a pole, completely eliminates the effect (dominance) of that pole ($p_1$). "
   ]
  },
  {
   "cell_type": "markdown",
   "id": "704764e4",
   "metadata": {
    "slideshow": {
     "slide_type": "fragment"
    }
   },
   "source": [
    "# What if the zero is close to a pole?\n",
    "\n",
    "Consider a second order transfer function:\n",
    "$$\n",
    "G(s) = \\frac{s+z_1}{(s+p_1)(s+p_2)} = \\frac{c_1}{s + p_1} + \\frac{c_2}{s + p_2}\n",
    "$$\n",
    "The coefficients $c_1$ and $c_2$ can be solved for (partial fraction expansion method):\n",
    "\n",
    "1. Multiply both sides of equality by the denominator:\n",
    "$$\n",
    "s + z_1 = c_1(s+p_2) + c_2(s+p_1).\n",
    "$$\n",
    "2. To find $c_1$, let $s=-p_1$:\n",
    "$$\n",
    "\\begin{align*}\n",
    "-p_1+z_1 &= c_1(-p_1+p_2)  \\\\\n",
    "c_1 &= \\frac{-p_1+z_1}{-p_1+p_2}\n",
    "\\end{align*}\n",
    "$$\n",
    "3. To find $c_2$, let $s=-p_2$:\n",
    "$$\n",
    "\\begin{align*}\n",
    "-p_2+z_1 &= c_2(-p_2+p_1)  \\\\\n",
    "c_1 &= \\frac{-p_2+z_1}{-p_2+p_1}\n",
    "\\end{align*}\n",
    "$$\n",
    "\n",
    "# Observations\n",
    "- if $z_1$ is close to $p_1$, then $c_1$ will be small, because $-p_1+z_1$ will be small. Dominance of $p_1$ is reduced.\n",
    "- if $z_1$ is close to $p_2$, then $c_2$ will be small (dominance of $p_2$ is reduced). \n",
    "    \n"
   ]
  },
  {
   "cell_type": "markdown",
   "id": "14bb9cfb",
   "metadata": {
    "slideshow": {
     "slide_type": "slide"
    }
   },
   "source": [
    "# Visualize the effect of zeros that are close to poles"
   ]
  },
  {
   "cell_type": "code",
   "execution_count": 1,
   "id": "e0ddf04d",
   "metadata": {
    "slideshow": {
     "slide_type": "fragment"
    }
   },
   "outputs": [
    {
     "data": {
      "text/html": [
       "\n",
       "<div align=\"middle\">\n",
       "<video width=\"80%\" controls>\n",
       "      <source src=\"effect of zeros.mp4\" type=\"video/mp4\">\n",
       "</video></div>"
      ],
      "text/plain": [
       "<IPython.core.display.HTML object>"
      ]
     },
     "execution_count": 1,
     "metadata": {},
     "output_type": "execute_result"
    }
   ],
   "source": [
    "from IPython.display import HTML\n",
    "\n",
    "HTML(\"\"\"\n",
    "<div align=\"middle\">\n",
    "<video width=\"80%\" controls>\n",
    "      <source src=\"effect of zeros.mp4\" type=\"video/mp4\">\n",
    "</video></div>\"\"\")"
   ]
  },
  {
   "cell_type": "markdown",
   "id": "ea4f5319",
   "metadata": {
    "slideshow": {
     "slide_type": "fragment"
    }
   },
   "source": [
    "# Interesting - we have gained some insight into the significance of zeros!\n",
    "\n",
    "We have learned how zeros affect the behavior of the system! Zeros exert their influence by modifying the coefficients of the exponential terms (whose shape is determined by the poles). \n",
    "\n",
    "We gained this insight by looking at the s-plane plot, and connected it to the coefficients of the partial fraction expansion! That is a non-trivial connection. "
   ]
  },
  {
   "cell_type": "markdown",
   "id": "841f0075",
   "metadata": {
    "slideshow": {
     "slide_type": "slide"
    }
   },
   "source": [
    "# Simulate system for a given input\n",
    "\n",
    "Now we want to be able to simulate the response of the system to any input. \n",
    "\n",
    "This becomes tedious using Laplace transforms. Luckily, there are built-in functions in python that can help us!\n"
   ]
  },
  {
   "cell_type": "markdown",
   "id": "4ffaa518",
   "metadata": {
    "slideshow": {
     "slide_type": "fragment"
    }
   },
   "source": [
    "# In Class Activity!\n",
    "- Look at response of multi-sines, ramps, triangle waves, noise + pulse, noise + sinusoid, others?\n",
    "- Try different system parameters\n",
    "\n"
   ]
  },
  {
   "cell_type": "code",
   "execution_count": 5,
   "id": "406e1cc7",
   "metadata": {
    "slideshow": {
     "slide_type": "fragment"
    }
   },
   "outputs": [
    {
     "data": {
      "image/png": "[encoded data removed]",
      "text/plain": [
       "<Figure size 640x480 with 1 Axes>"
      ]
     },
     "metadata": {},
     "output_type": "display_data"
    }
   ],
   "source": [
    "import math\n",
    "import numpy as np\n",
    "import scipy as sp\n",
    "import matplotlib.pyplot as plt\n",
    "\n",
    "# set system parameters\n",
    "J = 1 \n",
    "k = 2\n",
    "b = 1\n",
    "\n",
    "den_sys = np.array([J, b, k])\n",
    "num_sys = np.array([k])\n",
    "\n",
    "N = 10000\n",
    "dt = 1/1000\n",
    "t = np.linspace(0,dt*N,N)\n",
    "\n",
    "# make a step input\n",
    "u_step = np.ones((N))\n",
    "\n",
    "# make a rectangular pulse input\n",
    "n_pulse = 1000     #width of pulse in number of steps of size dt\n",
    "u_pulse = np.zeros(N)\n",
    "u_pulse[0:n_pulse] = np.ones((n_pulse))\n",
    "\n",
    "# make an input that is a single sinusoid\n",
    "f = 1   #frequency of sinusoid\n",
    "theta = math.pi/6\n",
    "u_sinusoid = np.sin(2*math.pi*f*t + theta)\n",
    "\n",
    "# make an input that is random\n",
    "u_rand = np.random.randn(N)\n",
    "\n",
    "# simulate the system output for selected input signal (note initial conditions are assumed to be zero)\n",
    "u = u_pulse\n",
    "tout, yout, xout = sp.signal.lsim((num_sys,den_sys),U=u,T=t)\n",
    "\n",
    "# plot the response\n",
    "fig, ax = plt.subplots(1,1)\n",
    "ax.plot(t, u, label='input')\n",
    "ax.plot(tout, yout, label='output')\n",
    "ax.set_title('Response of System')\n",
    "ax.set_xlabel('Time (s)')\n",
    "ax.set_ylabel('Angle (rad)')\n",
    "plt.legend()\n",
    "\n",
    "plt.show()"
   ]
  },
  {
   "cell_type": "markdown",
   "id": "66f3cfaf",
   "metadata": {
    "slideshow": {
     "slide_type": "fragment"
    }
   },
   "source": [
    "# Observations\n",
    "- What do you notice about the sinusoidal inputs?\n"
   ]
  },
  {
   "cell_type": "markdown",
   "id": "f712c9e6",
   "metadata": {
    "slideshow": {
     "slide_type": "slide"
    }
   },
   "source": [
    "# In this part we learned about\n",
    "- how to model a system using a transfer function\n",
    "- how poles are related to the time domain representation of a system\n",
    "- step response \n",
    "- how poles/zeros affect the step response\n",
    "- unstable poles"
   ]
  },
  {
   "cell_type": "markdown",
   "id": "f1d34bf3",
   "metadata": {
    "slideshow": {
     "slide_type": "slide"
    }
   },
   "source": [
    "# Key Take-aways\n",
    "\n",
    "- Differential equations restrict the possible values that variables in a system can take\n",
    "- When using a transfer function to represent a system two assumptions have been made:\n",
    "    1. One variable has been selected as the *input*, and another has been selected as the *output*\n",
    "    2. Initial conditions are zero"
   ]
  }
 ],
 "metadata": {
  "celltoolbar": "Slideshow",
  "kernelspec": {
   "display_name": "Python 3 (ipykernel)",
   "language": "python",
   "name": "python3"
  },
  "language_info": {
   "codemirror_mode": {
    "name": "ipython",
    "version": 3
   },
   "file_extension": ".py",
   "mimetype": "text/x-python",
   "name": "python",
   "nbconvert_exporter": "python",
   "pygments_lexer": "ipython3",
   "version": "3.10.8"
  },
  "rise": {
   "scroll": true
  },
  "toc": {
   "base_numbering": 1,
   "nav_menu": {},
   "number_sections": true,
   "sideBar": false,
   "skip_h1_title": false,
   "title_cell": "Table of Contents",
   "title_sidebar": "Contents",
   "toc_cell": false,
   "toc_position": {},
   "toc_section_display": true,
   "toc_window_display": false
  },
  "vscode": {
   "interpreter": {
    "hash": "aae2aa8d6042359e33b866bd60410f1e12f989f850a82b777f7146ee7b999886"
   }
  }
 },
 "nbformat": 4,
 "nbformat_minor": 5
}
